{
 "cells": [
  {
   "cell_type": "markdown",
   "id": "9cb97707-6a2b-45d6-bdff-f7c8431867fd",
   "metadata": {},
   "source": [
    "# Identify H3N2 epitope sites and average escape scores from antigenic escape scores per serum, site, and amino acid\n",
    "\n",
    "Identifies contemporary epitope sites and average escape scores from experimental measurements. Antigenic escape scores were originally calculated in Welsh et al. 2023 per serum a range of age groups. In this notebook, we identify putative antigenic sites or \"epitope sites\" where mutations should allow recent H3N2 strains to escape existing immunity. These sites augment the historical epitope sites from Wolf et al. 2006 that Nextstrain seasonal influenza analyses use to calculate \"epitope mutations\" in each HA tree.\n",
    "\n",
    "In addition to finding epitope sites from experimental data, we also calculate the average non-negative antigenic escape score per HA1 site/position and amino acid mutation from the wildtype. We save these average scores as [an Augur \"distance map\"](https://docs.nextstrain.org/projects/augur/en/stable/usage/cli/distance.html) which allows us to calculate a cumulative escape score for all HA1 amino acid mutations per strain in a given HA tree. We use non-negative escape scores to reflect the assumption that mutations with negative escape scores are less likely to occur in nature."
   ]
  },
  {
   "cell_type": "markdown",
   "id": "157ca5b1-e6d4-4a7c-94c5-52a9b5eed9e4",
   "metadata": {},
   "source": [
    "## Import"
   ]
  },
  {
   "cell_type": "code",
   "execution_count": null,
   "id": "582c5ab8-08e4-40e5-89f4-10cf1d1cb915",
   "metadata": {},
   "outputs": [],
   "source": [
    "import json\n",
    "import pandas as pd\n",
    "from pathlib import Path"
   ]
  },
  {
   "cell_type": "code",
   "execution_count": null,
   "id": "6cb7a594-74e6-4796-a701-7af4b0f668ab",
   "metadata": {},
   "outputs": [],
   "source": [
    "ha1_amino_acids = 329"
   ]
  },
  {
   "cell_type": "markdown",
   "id": "780c349b-45a7-4987-8cbd-21fd400fceb2",
   "metadata": {},
   "source": [
    "Define the number of standard deviations from the mean to use for the threshold of putative epitope sites."
   ]
  },
  {
   "cell_type": "code",
   "execution_count": null,
   "id": "fd05229c-5cb6-478b-9aaf-567a9b239873",
   "metadata": {},
   "outputs": [],
   "source": [
    "n_std_dev = 4"
   ]
  },
  {
   "cell_type": "markdown",
   "id": "232f1256-31a5-466e-91f0-a93a979cc2d4",
   "metadata": {},
   "source": [
    "## Load data"
   ]
  },
  {
   "cell_type": "markdown",
   "id": "b858d938-e145-44f0-9397-8bde768219f3",
   "metadata": {},
   "source": [
    "Load data from the merged and filtered escape scores in [the Welsh et al. GitHub repository](https://github.com/dms-vep/flu_h3_hk19_dms.git)."
   ]
  },
  {
   "cell_type": "code",
   "execution_count": null,
   "id": "0934f0eb-e6e1-4da2-9c58-94fc348b3099",
   "metadata": {},
   "outputs": [],
   "source": [
    "escape_scores = pd.read_csv(\"https://github.com/dms-vep/flu_h3_hk19_dms/raw/main/results/full_hk19_escape_scores.csv\")"
   ]
  },
  {
   "cell_type": "code",
   "execution_count": null,
   "id": "4ded5f2e-5e97-48dd-9c3f-cf574042a61b",
   "metadata": {},
   "outputs": [],
   "source": [
    "escape_scores.shape"
   ]
  },
  {
   "cell_type": "code",
   "execution_count": null,
   "id": "5a6630ab-17ce-40d1-9ba5-1499ca9e85c9",
   "metadata": {},
   "outputs": [],
   "source": [
    "escape_scores.head()"
   ]
  },
  {
   "cell_type": "code",
   "execution_count": null,
   "id": "079bfb60-524e-49fc-91d4-12dd798e9ee4",
   "metadata": {},
   "outputs": [],
   "source": [
    "escape_scores[\"serum\"].drop_duplicates().shape"
   ]
  },
  {
   "cell_type": "code",
   "execution_count": null,
   "id": "5597d582-27da-4d70-950f-1051d6cdf483",
   "metadata": {},
   "outputs": [],
   "source": [
    "set(escape_scores[\"serum\"].drop_duplicates().values)"
   ]
  },
  {
   "cell_type": "code",
   "execution_count": null,
   "id": "8b26c159-7f8c-4781-86e1-be1df0b63887",
   "metadata": {},
   "outputs": [],
   "source": [
    "nonnegative_ha1_escape_scores = escape_scores.query(f\"(escape_mean >= 0) & (site > 0) & (site <= {ha1_amino_acids})\").copy()"
   ]
  },
  {
   "cell_type": "code",
   "execution_count": null,
   "id": "b3c43d3e-d9b8-4840-a00a-4c7992610a90",
   "metadata": {},
   "outputs": [],
   "source": [
    "nonnegative_ha1_escape_scores.shape"
   ]
  },
  {
   "cell_type": "code",
   "execution_count": null,
   "id": "5023a615-f7c9-49d2-90f5-f30b221a2a18",
   "metadata": {},
   "outputs": [],
   "source": [
    "nonnegative_ha1_escape_scores.head()"
   ]
  },
  {
   "cell_type": "code",
   "execution_count": null,
   "id": "46e844c8-12e5-4be9-9471-9dcce555f861",
   "metadata": {},
   "outputs": [],
   "source": [
    "nonnegative_ha1_escape_scores.tail()"
   ]
  },
  {
   "cell_type": "markdown",
   "id": "dfc32eda-32b9-4fb6-aea2-b074a09b2831",
   "metadata": {},
   "source": [
    "Sum non-negative escape scores per serum and site, calculate the mean and std dev, and identify putative epitope sites as those where the total escape score is greater than the mean plus 4 standard deviations."
   ]
  },
  {
   "cell_type": "code",
   "execution_count": null,
   "id": "65286fa0-6742-4428-9ced-5f40c7b207a2",
   "metadata": {},
   "outputs": [],
   "source": [
    "ha1_effects_per_serum_and_site = nonnegative_ha1_escape_scores.groupby([\n",
    "    \"serum\",\n",
    "    \"cohort\",\n",
    "    \"site\",\n",
    "])[\"escape_mean\"].sum().reset_index().rename(columns={\"escape_mean\": \"escape_total\"})"
   ]
  },
  {
   "cell_type": "code",
   "execution_count": null,
   "id": "c5e29308-de87-45e4-8fc7-610ddd94377c",
   "metadata": {},
   "outputs": [],
   "source": [
    "ha1_effects_per_serum_and_site.shape"
   ]
  },
  {
   "cell_type": "code",
   "execution_count": null,
   "id": "486658b8-05e4-4a17-9cd3-4f88599cf6e1",
   "metadata": {},
   "outputs": [],
   "source": [
    "ha1_effects_per_serum_and_site.head()"
   ]
  },
  {
   "cell_type": "code",
   "execution_count": null,
   "id": "56306afd-eed9-40ce-bf65-4135e1bc370c",
   "metadata": {},
   "outputs": [],
   "source": [
    "ha1_effects_per_serum = ha1_effects_per_serum_and_site.groupby(\n",
    "    \"serum\"\n",
    ").agg({\n",
    "    \"escape_total\": [\"mean\", \"std\"]\n",
    "}).reset_index().set_axis([\"serum\", \"serum_mean_escape_total\", \"serum_std_escape_total\"], axis=1)"
   ]
  },
  {
   "cell_type": "code",
   "execution_count": null,
   "id": "f4e33cea-d555-4dc9-928a-a643d3958283",
   "metadata": {},
   "outputs": [],
   "source": [
    "ha1_effects_per_serum.shape"
   ]
  },
  {
   "cell_type": "code",
   "execution_count": null,
   "id": "16d853ff-12fb-4968-9f76-85b0d8f13df9",
   "metadata": {},
   "outputs": [],
   "source": [
    "ha1_effects_per_serum.head()"
   ]
  },
  {
   "cell_type": "code",
   "execution_count": null,
   "id": "03ef83b3-4184-4dac-aef9-e4b6769c1c43",
   "metadata": {},
   "outputs": [],
   "source": [
    "ha1_effects_per_serum[\"serum_escape_threshold\"] = (\n",
    "    ha1_effects_per_serum[\"serum_mean_escape_total\"] + (n_std_dev * ha1_effects_per_serum[\"serum_std_escape_total\"])\n",
    ")"
   ]
  },
  {
   "cell_type": "code",
   "execution_count": null,
   "id": "bff12db1-6320-4f82-bfd6-005c7843a6bb",
   "metadata": {},
   "outputs": [],
   "source": [
    "ha1_effects_per_serum.head()"
   ]
  },
  {
   "cell_type": "code",
   "execution_count": null,
   "id": "1d657d5b-a380-45b6-8e7d-44f40be7766a",
   "metadata": {},
   "outputs": [],
   "source": [
    "ha1_effects_per_serum_and_site_with_threshold = ha1_effects_per_serum_and_site.merge(ha1_effects_per_serum, on=\"serum\")"
   ]
  },
  {
   "cell_type": "code",
   "execution_count": null,
   "id": "76acd725-6a8c-4f89-816d-7917705e69fb",
   "metadata": {},
   "outputs": [],
   "source": [
    "ha1_effects_per_serum_and_site_with_threshold.head()"
   ]
  },
  {
   "cell_type": "code",
   "execution_count": null,
   "id": "bedc64dc-77fd-43e3-a100-4d4528f0d761",
   "metadata": {},
   "outputs": [],
   "source": [
    "epitope_sites_by_serum = ha1_effects_per_serum_and_site_with_threshold.query(\"escape_total >= serum_escape_threshold\").copy()"
   ]
  },
  {
   "cell_type": "code",
   "execution_count": null,
   "id": "951f7a14-6443-4ab7-b216-7246bf9a96a2",
   "metadata": {},
   "outputs": [],
   "source": [
    "epitope_sites_by_serum.head()"
   ]
  },
  {
   "cell_type": "code",
   "execution_count": null,
   "id": "fac49d91-ee4e-4a9c-abea-0651d554dbc5",
   "metadata": {},
   "outputs": [],
   "source": [
    "epitope_site_counts = epitope_sites_by_serum.groupby(\"site\")[\"serum\"].count()"
   ]
  },
  {
   "cell_type": "code",
   "execution_count": null,
   "id": "1005c53c-07d6-4d4b-b82e-2ced4b26dc8a",
   "metadata": {},
   "outputs": [],
   "source": [
    "epitope_site_counts"
   ]
  },
  {
   "cell_type": "code",
   "execution_count": null,
   "id": "2f0ae520-7330-437e-a5b5-24d402b77a47",
   "metadata": {},
   "outputs": [],
   "source": [
    "epitope_sites = epitope_site_counts.index.values"
   ]
  },
  {
   "cell_type": "code",
   "execution_count": null,
   "id": "b1d14b58-494e-4860-afbb-1450d252346d",
   "metadata": {},
   "outputs": [],
   "source": [
    "epitope_sites"
   ]
  },
  {
   "cell_type": "code",
   "execution_count": null,
   "id": "095b93f0-3077-4483-89d5-cd127b14cdcd",
   "metadata": {},
   "outputs": [],
   "source": [
    "len(epitope_sites)"
   ]
  },
  {
   "cell_type": "markdown",
   "id": "a4a33e87-e4e1-444d-b835-0620a4715ed0",
   "metadata": {},
   "source": [
    "Export a simple distance map for epitope sites where each site identified above has a weight of 1. When used with augur distance, this map calculates the Hamming distance between each sample and the MRCA of the tree at only these positions. All other mutations get ignored in that distance calculation."
   ]
  },
  {
   "cell_type": "code",
   "execution_count": null,
   "id": "cd1be7cd-567d-4a68-98a8-ee954dd2a76a",
   "metadata": {},
   "outputs": [],
   "source": [
    "epitope_site_distance_map = {\n",
    "    \"name\": \"Welsh et al. epitope sites\",\n",
    "    \"default\": 0,\n",
    "    \"map\": {\n",
    "        \"HA1\": {}\n",
    "    }\n",
    "}"
   ]
  },
  {
   "cell_type": "code",
   "execution_count": null,
   "id": "ef1d1297-883b-4fdc-bcfc-dae82a269336",
   "metadata": {},
   "outputs": [],
   "source": [
    "for site in epitope_sites:\n",
    "    epitope_site_distance_map[\"map\"][\"HA1\"][str(site)] = 1"
   ]
  },
  {
   "cell_type": "code",
   "execution_count": null,
   "id": "987aa9a9-1d53-4923-b502-31d97e7c0d37",
   "metadata": {},
   "outputs": [],
   "source": [
    "epitope_site_distance_map"
   ]
  },
  {
   "cell_type": "code",
   "execution_count": null,
   "id": "56ee1509-e582-4630-9ebf-89c74b1a0289",
   "metadata": {},
   "outputs": [],
   "source": [
    "with open(\"welsh_epitope_sites.json\", \"w\") as oh:\n",
    "    json.dump(\n",
    "        epitope_site_distance_map,\n",
    "        oh,\n",
    "        indent=2,\n",
    "    )"
   ]
  },
  {
   "cell_type": "markdown",
   "id": "dfcd184c-8250-4e6f-af6f-eb1123ed1098",
   "metadata": {},
   "source": [
    "## Calculate average nonnegative scores per site and amino acid across all samples"
   ]
  },
  {
   "cell_type": "code",
   "execution_count": null,
   "id": "0b28eaeb-9320-43ae-9953-f4863ec56b89",
   "metadata": {},
   "outputs": [],
   "source": [
    "total_score_per_site_and_amino_acid = {}"
   ]
  },
  {
   "cell_type": "code",
   "execution_count": null,
   "id": "00008ce0-1cbf-4795-baab-e6dd7bbe30fa",
   "metadata": {},
   "outputs": [],
   "source": [
    "count_score_per_site_and_amino_acid = {}"
   ]
  },
  {
   "cell_type": "code",
   "execution_count": null,
   "id": "49c37b70-5ee1-4812-a15a-ef3c1c146dce",
   "metadata": {},
   "outputs": [],
   "source": [
    "nonnegative_ha1_escape_scores.head()"
   ]
  },
  {
   "cell_type": "code",
   "execution_count": null,
   "id": "e0c0dd00-485e-418f-8884-57105d5a66f4",
   "metadata": {},
   "outputs": [],
   "source": [
    "mean_escape_score_by_site_and_amino_acid = nonnegative_ha1_escape_scores.groupby([\n",
    "    \"site\",\n",
    "    \"wildtype\",\n",
    "    \"mutant\",\n",
    "])[\"escape_mean\"].mean().to_dict()"
   ]
  },
  {
   "cell_type": "markdown",
   "id": "00c62c81-aa8c-41ad-b092-fb525eb1c2ed",
   "metadata": {},
   "source": [
    "Export a per-site-and-amino-acid distance map for the average scores calculated above. When used with augur distance, this map will calculate a weighted Hamming distance between each sample and the MRCA of the tree at any site with a mutation specifically from the wild type allele to the experimentally measured allele. The weights of the Hamming distance are the average escape score values for each site and amino acid mutation."
   ]
  },
  {
   "cell_type": "code",
   "execution_count": null,
   "id": "3ab7eff8-8c81-4427-8eaf-2ecb91e45b4a",
   "metadata": {},
   "outputs": [],
   "source": [
    "distance_map = {\n",
    "    \"name\": \"Welsh et al. escape scores per site and amino acid\",\n",
    "    \"default\": 0,\n",
    "    \"map\": {\n",
    "        \"HA1\": {}\n",
    "    }\n",
    "}"
   ]
  },
  {
   "cell_type": "code",
   "execution_count": null,
   "id": "7640cc4a-1602-4ae8-88b8-54c5484ee2c6",
   "metadata": {},
   "outputs": [],
   "source": [
    "for (site, wildtype, mutant), escape_score in mean_escape_score_by_site_and_amino_acid.items():\n",
    "    if str(site) not in distance_map[\"map\"][\"HA1\"]:\n",
    "        distance_map[\"map\"][\"HA1\"][str(site)] = []\n",
    "\n",
    "    distance_map[\"map\"][\"HA1\"][str(site)].append({\n",
    "        \"from\": wildtype,\n",
    "        \"to\": mutant,\n",
    "        \"weight\": round(escape_score, 6),\n",
    "    })"
   ]
  },
  {
   "cell_type": "code",
   "execution_count": null,
   "id": "dc00fbb5-2daf-41ab-b123-28bb5d3bc00f",
   "metadata": {},
   "outputs": [],
   "source": [
    "distance_map[\"map\"][\"HA1\"][\"160\"]"
   ]
  },
  {
   "cell_type": "code",
   "execution_count": null,
   "id": "e6194612-4401-4a23-a6c9-700aba4b3b5a",
   "metadata": {},
   "outputs": [],
   "source": [
    "distance_map[\"map\"][\"HA1\"][\"223\"]"
   ]
  },
  {
   "cell_type": "code",
   "execution_count": null,
   "id": "248c9052-7238-4a7b-99dc-24f5bc234393",
   "metadata": {},
   "outputs": [],
   "source": [
    "distance_map[\"map\"][\"HA1\"][\"140\"]"
   ]
  },
  {
   "cell_type": "code",
   "execution_count": null,
   "id": "f12d94ef-0124-4d91-b295-4fa89abd9e3b",
   "metadata": {},
   "outputs": [],
   "source": [
    "with open(\"welsh_escape_by_site_and_amino_acid.json\", \"w\") as oh:\n",
    "    json.dump(\n",
    "        distance_map,\n",
    "        oh,\n",
    "        indent=2,\n",
    "    )"
   ]
  },
  {
   "cell_type": "markdown",
   "id": "935dd658-3b21-4399-a104-b564d43b116a",
   "metadata": {},
   "source": [
    "## Create distance map per serum sample"
   ]
  },
  {
   "cell_type": "code",
   "execution_count": null,
   "id": "38ad1e18-0459-45db-806f-534213290614",
   "metadata": {},
   "outputs": [],
   "source": [
    "output_dir = Path(\"welsh_escape_by_site_and_amino_acid_by_serum\")"
   ]
  },
  {
   "cell_type": "code",
   "execution_count": null,
   "id": "b4aff470-c3e1-4ebb-8768-ec42f4bbe006",
   "metadata": {},
   "outputs": [],
   "source": [
    "output_dir.mkdir(exist_ok=True)"
   ]
  },
  {
   "cell_type": "code",
   "execution_count": null,
   "id": "486de66c-1d23-44a9-83e2-0e65b8917ca7",
   "metadata": {},
   "outputs": [],
   "source": [
    "for (serum, cohort), serum_scores in nonnegative_ha1_escape_scores.groupby([\"serum\", \"cohort\"]):\n",
    "    serum_escape_records = serum_scores[[\n",
    "        \"site\",\n",
    "        \"wildtype\",\n",
    "        \"mutant\",\n",
    "        \"escape_mean\",\n",
    "    ]].to_dict(orient=\"records\")\n",
    "    \n",
    "    distance_map = {\n",
    "        \"name\": f\"Welsh et al. escape scores per site and amino acid for sample '{serum}' in cohort '{cohort}'\",\n",
    "        \"serum\": serum,\n",
    "        \"cohort\": cohort,\n",
    "        \"default\": 0,\n",
    "        \"map\": {\n",
    "            \"HA1\": {}\n",
    "        }\n",
    "    }\n",
    "    \n",
    "    for record in serum_escape_records:\n",
    "        site = str(record[\"site\"])\n",
    "        if str(site) not in distance_map[\"map\"][\"HA1\"]:\n",
    "            distance_map[\"map\"][\"HA1\"][str(site)] = []\n",
    "\n",
    "        distance_map[\"map\"][\"HA1\"][str(site)].append({\n",
    "            \"from\": record[\"wildtype\"],\n",
    "            \"to\": record[\"mutant\"],\n",
    "            \"weight\": round(record[\"escape_mean\"], 6),\n",
    "        })\n",
    "        \n",
    "    with open(output_dir / f\"{serum}.json\", \"w\") as oh:\n",
    "        json.dump(\n",
    "            distance_map,\n",
    "            oh,\n",
    "            indent=2,\n",
    "        )"
   ]
  },
  {
   "cell_type": "code",
   "execution_count": null,
   "id": "31a4b0cb-0a24-408d-a020-9e3941dfcd42",
   "metadata": {},
   "outputs": [],
   "source": [
    "!ls -l welsh_escape_by_site_and_amino_acid_by_serum/"
   ]
  },
  {
   "cell_type": "code",
   "execution_count": null,
   "id": "9eb7029c-ea8c-4816-b9d4-f35a5b5560b8",
   "metadata": {},
   "outputs": [],
   "source": []
  }
 ],
 "metadata": {
  "kernelspec": {
   "display_name": "Python 3 (ipykernel)",
   "language": "python",
   "name": "python3"
  },
  "language_info": {
   "codemirror_mode": {
    "name": "ipython",
    "version": 3
   },
   "file_extension": ".py",
   "mimetype": "text/x-python",
   "name": "python",
   "nbconvert_exporter": "python",
   "pygments_lexer": "ipython3",
   "version": "3.8.13"
  }
 },
 "nbformat": 4,
 "nbformat_minor": 5
}
